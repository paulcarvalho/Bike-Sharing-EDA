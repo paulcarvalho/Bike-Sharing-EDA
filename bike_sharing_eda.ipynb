{
 "cells": [
  {
   "cell_type": "markdown",
   "id": "3f5f0820",
   "metadata": {},
   "source": [
    "# Analyzing Capital Bikeshare Rentals\n",
    "\n",
    "In this project, I analyze the Capital bikeshare system data between the years 2011-2012 to reveal patterns in the number of bike rentals in relation to temporal and seasonal changes.\n",
    "\n",
    "Citation: Fanaee-T, H. (2013). Bike Sharing [Dataset]. UCI Machine Learning Repository. https://doi.org/10.24432/C5W894."
   ]
  },
  {
   "cell_type": "markdown",
   "id": "f9ef0bc7",
   "metadata": {},
   "source": [
    "### Import libraries"
   ]
  },
  {
   "cell_type": "code",
   "execution_count": 6,
   "id": "7d4e29b6",
   "metadata": {},
   "outputs": [],
   "source": [
    "from ucimlrepo import fetch_ucirepo \n",
    "from pandas.plotting import scatter_matrix\n",
    "import matplotlib.pyplot as plt\n",
    "import pandas as pd\n",
    "import numpy as np\n",
    "import seaborn as sns\n",
    "import statsmodels.api as sm\n",
    "from scipy import stats\n",
    "from statsmodels.formula.api import ols\n",
    "from statsmodels.stats.multicomp import pairwise_tukeyhsd\n"
   ]
  },
  {
   "cell_type": "markdown",
   "id": "7326120f",
   "metadata": {},
   "source": [
    "### Import and inspect the dataset"
   ]
  },
  {
   "cell_type": "code",
   "execution_count": 7,
   "id": "db03aa10",
   "metadata": {},
   "outputs": [],
   "source": [
    "# fetch dataset \n",
    "bike_sharing = fetch_ucirepo(id=275) \n",
    "  \n",
    "# data (as pandas dataframes) \n",
    "X = bike_sharing.data.features \n",
    "y = bike_sharing.data.targets\n",
    "\n",
    "# combine the target and features\n",
    "combined_df = pd.concat([X, y], axis=1)\n"
   ]
  },
  {
   "cell_type": "code",
   "execution_count": 8,
   "id": "893c1288",
   "metadata": {},
   "outputs": [
    {
     "data": {
      "application/vnd.microsoft.datawrangler.viewer.v0+json": {
       "columns": [
        {
         "name": "index",
         "rawType": "int64",
         "type": "integer"
        },
        {
         "name": "dteday",
         "rawType": "object",
         "type": "string"
        },
        {
         "name": "season",
         "rawType": "int64",
         "type": "integer"
        },
        {
         "name": "yr",
         "rawType": "int64",
         "type": "integer"
        },
        {
         "name": "mnth",
         "rawType": "int64",
         "type": "integer"
        },
        {
         "name": "hr",
         "rawType": "int64",
         "type": "integer"
        },
        {
         "name": "holiday",
         "rawType": "int64",
         "type": "integer"
        },
        {
         "name": "weekday",
         "rawType": "int64",
         "type": "integer"
        },
        {
         "name": "workingday",
         "rawType": "int64",
         "type": "integer"
        },
        {
         "name": "weathersit",
         "rawType": "int64",
         "type": "integer"
        },
        {
         "name": "temp",
         "rawType": "float64",
         "type": "float"
        },
        {
         "name": "atemp",
         "rawType": "float64",
         "type": "float"
        },
        {
         "name": "hum",
         "rawType": "float64",
         "type": "float"
        },
        {
         "name": "windspeed",
         "rawType": "float64",
         "type": "float"
        },
        {
         "name": "cnt",
         "rawType": "int64",
         "type": "integer"
        }
       ],
       "ref": "bb8b2daa-4a49-4a36-b35e-98f90e0463f6",
       "rows": [
        [
         "0",
         "2011-01-01",
         "1",
         "0",
         "1",
         "0",
         "0",
         "6",
         "0",
         "1",
         "0.24",
         "0.2879",
         "0.81",
         "0.0",
         "16"
        ],
        [
         "1",
         "2011-01-01",
         "1",
         "0",
         "1",
         "1",
         "0",
         "6",
         "0",
         "1",
         "0.22",
         "0.2727",
         "0.8",
         "0.0",
         "40"
        ],
        [
         "2",
         "2011-01-01",
         "1",
         "0",
         "1",
         "2",
         "0",
         "6",
         "0",
         "1",
         "0.22",
         "0.2727",
         "0.8",
         "0.0",
         "32"
        ],
        [
         "3",
         "2011-01-01",
         "1",
         "0",
         "1",
         "3",
         "0",
         "6",
         "0",
         "1",
         "0.24",
         "0.2879",
         "0.75",
         "0.0",
         "13"
        ],
        [
         "4",
         "2011-01-01",
         "1",
         "0",
         "1",
         "4",
         "0",
         "6",
         "0",
         "1",
         "0.24",
         "0.2879",
         "0.75",
         "0.0",
         "1"
        ]
       ],
       "shape": {
        "columns": 14,
        "rows": 5
       }
      },
      "text/html": [
       "<div>\n",
       "<style scoped>\n",
       "    .dataframe tbody tr th:only-of-type {\n",
       "        vertical-align: middle;\n",
       "    }\n",
       "\n",
       "    .dataframe tbody tr th {\n",
       "        vertical-align: top;\n",
       "    }\n",
       "\n",
       "    .dataframe thead th {\n",
       "        text-align: right;\n",
       "    }\n",
       "</style>\n",
       "<table border=\"1\" class=\"dataframe\">\n",
       "  <thead>\n",
       "    <tr style=\"text-align: right;\">\n",
       "      <th></th>\n",
       "      <th>dteday</th>\n",
       "      <th>season</th>\n",
       "      <th>yr</th>\n",
       "      <th>mnth</th>\n",
       "      <th>hr</th>\n",
       "      <th>holiday</th>\n",
       "      <th>weekday</th>\n",
       "      <th>workingday</th>\n",
       "      <th>weathersit</th>\n",
       "      <th>temp</th>\n",
       "      <th>atemp</th>\n",
       "      <th>hum</th>\n",
       "      <th>windspeed</th>\n",
       "      <th>cnt</th>\n",
       "    </tr>\n",
       "  </thead>\n",
       "  <tbody>\n",
       "    <tr>\n",
       "      <th>0</th>\n",
       "      <td>2011-01-01</td>\n",
       "      <td>1</td>\n",
       "      <td>0</td>\n",
       "      <td>1</td>\n",
       "      <td>0</td>\n",
       "      <td>0</td>\n",
       "      <td>6</td>\n",
       "      <td>0</td>\n",
       "      <td>1</td>\n",
       "      <td>0.24</td>\n",
       "      <td>0.2879</td>\n",
       "      <td>0.81</td>\n",
       "      <td>0.0</td>\n",
       "      <td>16</td>\n",
       "    </tr>\n",
       "    <tr>\n",
       "      <th>1</th>\n",
       "      <td>2011-01-01</td>\n",
       "      <td>1</td>\n",
       "      <td>0</td>\n",
       "      <td>1</td>\n",
       "      <td>1</td>\n",
       "      <td>0</td>\n",
       "      <td>6</td>\n",
       "      <td>0</td>\n",
       "      <td>1</td>\n",
       "      <td>0.22</td>\n",
       "      <td>0.2727</td>\n",
       "      <td>0.80</td>\n",
       "      <td>0.0</td>\n",
       "      <td>40</td>\n",
       "    </tr>\n",
       "    <tr>\n",
       "      <th>2</th>\n",
       "      <td>2011-01-01</td>\n",
       "      <td>1</td>\n",
       "      <td>0</td>\n",
       "      <td>1</td>\n",
       "      <td>2</td>\n",
       "      <td>0</td>\n",
       "      <td>6</td>\n",
       "      <td>0</td>\n",
       "      <td>1</td>\n",
       "      <td>0.22</td>\n",
       "      <td>0.2727</td>\n",
       "      <td>0.80</td>\n",
       "      <td>0.0</td>\n",
       "      <td>32</td>\n",
       "    </tr>\n",
       "    <tr>\n",
       "      <th>3</th>\n",
       "      <td>2011-01-01</td>\n",
       "      <td>1</td>\n",
       "      <td>0</td>\n",
       "      <td>1</td>\n",
       "      <td>3</td>\n",
       "      <td>0</td>\n",
       "      <td>6</td>\n",
       "      <td>0</td>\n",
       "      <td>1</td>\n",
       "      <td>0.24</td>\n",
       "      <td>0.2879</td>\n",
       "      <td>0.75</td>\n",
       "      <td>0.0</td>\n",
       "      <td>13</td>\n",
       "    </tr>\n",
       "    <tr>\n",
       "      <th>4</th>\n",
       "      <td>2011-01-01</td>\n",
       "      <td>1</td>\n",
       "      <td>0</td>\n",
       "      <td>1</td>\n",
       "      <td>4</td>\n",
       "      <td>0</td>\n",
       "      <td>6</td>\n",
       "      <td>0</td>\n",
       "      <td>1</td>\n",
       "      <td>0.24</td>\n",
       "      <td>0.2879</td>\n",
       "      <td>0.75</td>\n",
       "      <td>0.0</td>\n",
       "      <td>1</td>\n",
       "    </tr>\n",
       "  </tbody>\n",
       "</table>\n",
       "</div>"
      ],
      "text/plain": [
       "       dteday  season  yr  mnth  hr  holiday  weekday  workingday  weathersit  \\\n",
       "0  2011-01-01       1   0     1   0        0        6           0           1   \n",
       "1  2011-01-01       1   0     1   1        0        6           0           1   \n",
       "2  2011-01-01       1   0     1   2        0        6           0           1   \n",
       "3  2011-01-01       1   0     1   3        0        6           0           1   \n",
       "4  2011-01-01       1   0     1   4        0        6           0           1   \n",
       "\n",
       "   temp   atemp   hum  windspeed  cnt  \n",
       "0  0.24  0.2879  0.81        0.0   16  \n",
       "1  0.22  0.2727  0.80        0.0   40  \n",
       "2  0.22  0.2727  0.80        0.0   32  \n",
       "3  0.24  0.2879  0.75        0.0   13  \n",
       "4  0.24  0.2879  0.75        0.0    1  "
      ]
     },
     "execution_count": 8,
     "metadata": {},
     "output_type": "execute_result"
    }
   ],
   "source": [
    "combined_df.head()"
   ]
  },
  {
   "cell_type": "code",
   "execution_count": 9,
   "id": "37bf4d32",
   "metadata": {},
   "outputs": [
    {
     "name": "stdout",
     "output_type": "stream",
     "text": [
      "<class 'pandas.core.frame.DataFrame'>\n",
      "RangeIndex: 17379 entries, 0 to 17378\n",
      "Data columns (total 14 columns):\n",
      " #   Column      Non-Null Count  Dtype  \n",
      "---  ------      --------------  -----  \n",
      " 0   dteday      17379 non-null  object \n",
      " 1   season      17379 non-null  int64  \n",
      " 2   yr          17379 non-null  int64  \n",
      " 3   mnth        17379 non-null  int64  \n",
      " 4   hr          17379 non-null  int64  \n",
      " 5   holiday     17379 non-null  int64  \n",
      " 6   weekday     17379 non-null  int64  \n",
      " 7   workingday  17379 non-null  int64  \n",
      " 8   weathersit  17379 non-null  int64  \n",
      " 9   temp        17379 non-null  float64\n",
      " 10  atemp       17379 non-null  float64\n",
      " 11  hum         17379 non-null  float64\n",
      " 12  windspeed   17379 non-null  float64\n",
      " 13  cnt         17379 non-null  int64  \n",
      "dtypes: float64(4), int64(9), object(1)\n",
      "memory usage: 1.9+ MB\n"
     ]
    }
   ],
   "source": [
    "combined_df.info()"
   ]
  },
  {
   "cell_type": "code",
   "execution_count": 10,
   "id": "09391e69",
   "metadata": {},
   "outputs": [
    {
     "data": {
      "application/vnd.microsoft.datawrangler.viewer.v0+json": {
       "columns": [
        {
         "name": "index",
         "rawType": "object",
         "type": "string"
        },
        {
         "name": "season",
         "rawType": "float64",
         "type": "float"
        },
        {
         "name": "yr",
         "rawType": "float64",
         "type": "float"
        },
        {
         "name": "mnth",
         "rawType": "float64",
         "type": "float"
        },
        {
         "name": "hr",
         "rawType": "float64",
         "type": "float"
        },
        {
         "name": "holiday",
         "rawType": "float64",
         "type": "float"
        },
        {
         "name": "weekday",
         "rawType": "float64",
         "type": "float"
        },
        {
         "name": "workingday",
         "rawType": "float64",
         "type": "float"
        },
        {
         "name": "weathersit",
         "rawType": "float64",
         "type": "float"
        },
        {
         "name": "temp",
         "rawType": "float64",
         "type": "float"
        },
        {
         "name": "atemp",
         "rawType": "float64",
         "type": "float"
        },
        {
         "name": "hum",
         "rawType": "float64",
         "type": "float"
        },
        {
         "name": "windspeed",
         "rawType": "float64",
         "type": "float"
        },
        {
         "name": "cnt",
         "rawType": "float64",
         "type": "float"
        }
       ],
       "ref": "ce20464d-1878-4865-aaba-5e466e6ae43f",
       "rows": [
        [
         "count",
         "17379.0",
         "17379.0",
         "17379.0",
         "17379.0",
         "17379.0",
         "17379.0",
         "17379.0",
         "17379.0",
         "17379.0",
         "17379.0",
         "17379.0",
         "17379.0",
         "17379.0"
        ],
        [
         "mean",
         "2.5016399102364923",
         "0.5025605615973301",
         "6.537775476149376",
         "11.546751826917545",
         "0.028770355026181024",
         "3.003682605443351",
         "0.6827205247712756",
         "1.425283387997008",
         "0.4969871684216583",
         "0.4757751021347604",
         "0.6272288394038782",
         "0.1900976063064618",
         "189.46308763450142"
        ],
        [
         "std",
         "1.1069181394480763",
         "0.5000078290910197",
         "3.4387757137501653",
         "6.914405095264493",
         "0.16716527638437126",
         "2.005771456110988",
         "0.4654306335238829",
         "0.6393568777542533",
         "0.1925561212497219",
         "0.17185021563535943",
         "0.19292983406291508",
         "0.1223402285727905",
         "181.38759909186476"
        ],
        [
         "min",
         "1.0",
         "0.0",
         "1.0",
         "0.0",
         "0.0",
         "0.0",
         "0.0",
         "1.0",
         "0.02",
         "0.0",
         "0.0",
         "0.0",
         "1.0"
        ],
        [
         "25%",
         "2.0",
         "0.0",
         "4.0",
         "6.0",
         "0.0",
         "1.0",
         "0.0",
         "1.0",
         "0.34",
         "0.3333",
         "0.48",
         "0.1045",
         "40.0"
        ],
        [
         "50%",
         "3.0",
         "1.0",
         "7.0",
         "12.0",
         "0.0",
         "3.0",
         "1.0",
         "1.0",
         "0.5",
         "0.4848",
         "0.63",
         "0.194",
         "142.0"
        ],
        [
         "75%",
         "3.0",
         "1.0",
         "10.0",
         "18.0",
         "0.0",
         "5.0",
         "1.0",
         "2.0",
         "0.66",
         "0.6212",
         "0.78",
         "0.2537",
         "281.0"
        ],
        [
         "max",
         "4.0",
         "1.0",
         "12.0",
         "23.0",
         "1.0",
         "6.0",
         "1.0",
         "4.0",
         "1.0",
         "1.0",
         "1.0",
         "0.8507",
         "977.0"
        ]
       ],
       "shape": {
        "columns": 13,
        "rows": 8
       }
      },
      "text/html": [
       "<div>\n",
       "<style scoped>\n",
       "    .dataframe tbody tr th:only-of-type {\n",
       "        vertical-align: middle;\n",
       "    }\n",
       "\n",
       "    .dataframe tbody tr th {\n",
       "        vertical-align: top;\n",
       "    }\n",
       "\n",
       "    .dataframe thead th {\n",
       "        text-align: right;\n",
       "    }\n",
       "</style>\n",
       "<table border=\"1\" class=\"dataframe\">\n",
       "  <thead>\n",
       "    <tr style=\"text-align: right;\">\n",
       "      <th></th>\n",
       "      <th>season</th>\n",
       "      <th>yr</th>\n",
       "      <th>mnth</th>\n",
       "      <th>hr</th>\n",
       "      <th>holiday</th>\n",
       "      <th>weekday</th>\n",
       "      <th>workingday</th>\n",
       "      <th>weathersit</th>\n",
       "      <th>temp</th>\n",
       "      <th>atemp</th>\n",
       "      <th>hum</th>\n",
       "      <th>windspeed</th>\n",
       "      <th>cnt</th>\n",
       "    </tr>\n",
       "  </thead>\n",
       "  <tbody>\n",
       "    <tr>\n",
       "      <th>count</th>\n",
       "      <td>17379.000000</td>\n",
       "      <td>17379.000000</td>\n",
       "      <td>17379.000000</td>\n",
       "      <td>17379.000000</td>\n",
       "      <td>17379.000000</td>\n",
       "      <td>17379.000000</td>\n",
       "      <td>17379.000000</td>\n",
       "      <td>17379.000000</td>\n",
       "      <td>17379.000000</td>\n",
       "      <td>17379.000000</td>\n",
       "      <td>17379.000000</td>\n",
       "      <td>17379.000000</td>\n",
       "      <td>17379.000000</td>\n",
       "    </tr>\n",
       "    <tr>\n",
       "      <th>mean</th>\n",
       "      <td>2.501640</td>\n",
       "      <td>0.502561</td>\n",
       "      <td>6.537775</td>\n",
       "      <td>11.546752</td>\n",
       "      <td>0.028770</td>\n",
       "      <td>3.003683</td>\n",
       "      <td>0.682721</td>\n",
       "      <td>1.425283</td>\n",
       "      <td>0.496987</td>\n",
       "      <td>0.475775</td>\n",
       "      <td>0.627229</td>\n",
       "      <td>0.190098</td>\n",
       "      <td>189.463088</td>\n",
       "    </tr>\n",
       "    <tr>\n",
       "      <th>std</th>\n",
       "      <td>1.106918</td>\n",
       "      <td>0.500008</td>\n",
       "      <td>3.438776</td>\n",
       "      <td>6.914405</td>\n",
       "      <td>0.167165</td>\n",
       "      <td>2.005771</td>\n",
       "      <td>0.465431</td>\n",
       "      <td>0.639357</td>\n",
       "      <td>0.192556</td>\n",
       "      <td>0.171850</td>\n",
       "      <td>0.192930</td>\n",
       "      <td>0.122340</td>\n",
       "      <td>181.387599</td>\n",
       "    </tr>\n",
       "    <tr>\n",
       "      <th>min</th>\n",
       "      <td>1.000000</td>\n",
       "      <td>0.000000</td>\n",
       "      <td>1.000000</td>\n",
       "      <td>0.000000</td>\n",
       "      <td>0.000000</td>\n",
       "      <td>0.000000</td>\n",
       "      <td>0.000000</td>\n",
       "      <td>1.000000</td>\n",
       "      <td>0.020000</td>\n",
       "      <td>0.000000</td>\n",
       "      <td>0.000000</td>\n",
       "      <td>0.000000</td>\n",
       "      <td>1.000000</td>\n",
       "    </tr>\n",
       "    <tr>\n",
       "      <th>25%</th>\n",
       "      <td>2.000000</td>\n",
       "      <td>0.000000</td>\n",
       "      <td>4.000000</td>\n",
       "      <td>6.000000</td>\n",
       "      <td>0.000000</td>\n",
       "      <td>1.000000</td>\n",
       "      <td>0.000000</td>\n",
       "      <td>1.000000</td>\n",
       "      <td>0.340000</td>\n",
       "      <td>0.333300</td>\n",
       "      <td>0.480000</td>\n",
       "      <td>0.104500</td>\n",
       "      <td>40.000000</td>\n",
       "    </tr>\n",
       "    <tr>\n",
       "      <th>50%</th>\n",
       "      <td>3.000000</td>\n",
       "      <td>1.000000</td>\n",
       "      <td>7.000000</td>\n",
       "      <td>12.000000</td>\n",
       "      <td>0.000000</td>\n",
       "      <td>3.000000</td>\n",
       "      <td>1.000000</td>\n",
       "      <td>1.000000</td>\n",
       "      <td>0.500000</td>\n",
       "      <td>0.484800</td>\n",
       "      <td>0.630000</td>\n",
       "      <td>0.194000</td>\n",
       "      <td>142.000000</td>\n",
       "    </tr>\n",
       "    <tr>\n",
       "      <th>75%</th>\n",
       "      <td>3.000000</td>\n",
       "      <td>1.000000</td>\n",
       "      <td>10.000000</td>\n",
       "      <td>18.000000</td>\n",
       "      <td>0.000000</td>\n",
       "      <td>5.000000</td>\n",
       "      <td>1.000000</td>\n",
       "      <td>2.000000</td>\n",
       "      <td>0.660000</td>\n",
       "      <td>0.621200</td>\n",
       "      <td>0.780000</td>\n",
       "      <td>0.253700</td>\n",
       "      <td>281.000000</td>\n",
       "    </tr>\n",
       "    <tr>\n",
       "      <th>max</th>\n",
       "      <td>4.000000</td>\n",
       "      <td>1.000000</td>\n",
       "      <td>12.000000</td>\n",
       "      <td>23.000000</td>\n",
       "      <td>1.000000</td>\n",
       "      <td>6.000000</td>\n",
       "      <td>1.000000</td>\n",
       "      <td>4.000000</td>\n",
       "      <td>1.000000</td>\n",
       "      <td>1.000000</td>\n",
       "      <td>1.000000</td>\n",
       "      <td>0.850700</td>\n",
       "      <td>977.000000</td>\n",
       "    </tr>\n",
       "  </tbody>\n",
       "</table>\n",
       "</div>"
      ],
      "text/plain": [
       "             season            yr          mnth            hr       holiday  \\\n",
       "count  17379.000000  17379.000000  17379.000000  17379.000000  17379.000000   \n",
       "mean       2.501640      0.502561      6.537775     11.546752      0.028770   \n",
       "std        1.106918      0.500008      3.438776      6.914405      0.167165   \n",
       "min        1.000000      0.000000      1.000000      0.000000      0.000000   \n",
       "25%        2.000000      0.000000      4.000000      6.000000      0.000000   \n",
       "50%        3.000000      1.000000      7.000000     12.000000      0.000000   \n",
       "75%        3.000000      1.000000     10.000000     18.000000      0.000000   \n",
       "max        4.000000      1.000000     12.000000     23.000000      1.000000   \n",
       "\n",
       "            weekday    workingday    weathersit          temp         atemp  \\\n",
       "count  17379.000000  17379.000000  17379.000000  17379.000000  17379.000000   \n",
       "mean       3.003683      0.682721      1.425283      0.496987      0.475775   \n",
       "std        2.005771      0.465431      0.639357      0.192556      0.171850   \n",
       "min        0.000000      0.000000      1.000000      0.020000      0.000000   \n",
       "25%        1.000000      0.000000      1.000000      0.340000      0.333300   \n",
       "50%        3.000000      1.000000      1.000000      0.500000      0.484800   \n",
       "75%        5.000000      1.000000      2.000000      0.660000      0.621200   \n",
       "max        6.000000      1.000000      4.000000      1.000000      1.000000   \n",
       "\n",
       "                hum     windspeed           cnt  \n",
       "count  17379.000000  17379.000000  17379.000000  \n",
       "mean       0.627229      0.190098    189.463088  \n",
       "std        0.192930      0.122340    181.387599  \n",
       "min        0.000000      0.000000      1.000000  \n",
       "25%        0.480000      0.104500     40.000000  \n",
       "50%        0.630000      0.194000    142.000000  \n",
       "75%        0.780000      0.253700    281.000000  \n",
       "max        1.000000      0.850700    977.000000  "
      ]
     },
     "execution_count": 10,
     "metadata": {},
     "output_type": "execute_result"
    }
   ],
   "source": [
    "combined_df.describe()"
   ]
  },
  {
   "cell_type": "markdown",
   "id": "28b8f52c",
   "metadata": {},
   "source": [
    "### Data quality check\n"
   ]
  },
  {
   "cell_type": "code",
   "execution_count": 11,
   "id": "c54c2dab",
   "metadata": {},
   "outputs": [
    {
     "data": {
      "application/vnd.microsoft.datawrangler.viewer.v0+json": {
       "columns": [
        {
         "name": "index",
         "rawType": "object",
         "type": "string"
        },
        {
         "name": "0",
         "rawType": "int64",
         "type": "integer"
        }
       ],
       "ref": "12260fe1-e00d-4565-a0b0-c6ff9396f11e",
       "rows": [
        [
         "dteday",
         "0"
        ],
        [
         "season",
         "0"
        ],
        [
         "yr",
         "0"
        ],
        [
         "mnth",
         "0"
        ],
        [
         "hr",
         "0"
        ],
        [
         "holiday",
         "0"
        ],
        [
         "weekday",
         "0"
        ],
        [
         "workingday",
         "0"
        ],
        [
         "weathersit",
         "0"
        ],
        [
         "temp",
         "0"
        ],
        [
         "atemp",
         "0"
        ],
        [
         "hum",
         "0"
        ],
        [
         "windspeed",
         "0"
        ],
        [
         "cnt",
         "0"
        ]
       ],
       "shape": {
        "columns": 1,
        "rows": 14
       }
      },
      "text/plain": [
       "dteday        0\n",
       "season        0\n",
       "yr            0\n",
       "mnth          0\n",
       "hr            0\n",
       "holiday       0\n",
       "weekday       0\n",
       "workingday    0\n",
       "weathersit    0\n",
       "temp          0\n",
       "atemp         0\n",
       "hum           0\n",
       "windspeed     0\n",
       "cnt           0\n",
       "dtype: int64"
      ]
     },
     "execution_count": 11,
     "metadata": {},
     "output_type": "execute_result"
    }
   ],
   "source": [
    "combined_df.isnull().sum()"
   ]
  },
  {
   "cell_type": "markdown",
   "id": "ba51d54e",
   "metadata": {},
   "source": [
    "### Exploratory data analysis\n",
    "\n",
    "\n",
    "8. Conclusions & Key Takeaways\n",
    "\n",
    "Summarize the most important findings\n",
    "\n",
    "Reflect on what the data tells you\n",
    "\n",
    "Suggest practical recommendations\n",
    "\n",
    "10. Polish and Share\n",
    "\n",
    "Clean code: No unnecessary cells, errors, or warnings\n",
    "\n",
    "Comment generously: Explain your thinking\n",
    "\n",
    "Add markdown headers and bullet points\n",
    "\n",
    "Publish on GitHub with README\n",
    "\n",
    "Optional: Share on Kaggle or build a blog post"
   ]
  },
  {
   "cell_type": "markdown",
   "id": "b3a4d0e3",
   "metadata": {},
   "source": [
    "#### Target data"
   ]
  },
  {
   "cell_type": "code",
   "execution_count": 12,
   "id": "cdf5fa80",
   "metadata": {},
   "outputs": [
    {
     "data": {
      "application/vnd.microsoft.datawrangler.viewer.v0+json": {
       "columns": [
        {
         "name": "cnt",
         "rawType": "int64",
         "type": "integer"
        },
        {
         "name": "count",
         "rawType": "int64",
         "type": "integer"
        }
       ],
       "ref": "467d1810-fb03-459a-af5f-d6fed424b5fa",
       "rows": [
        [
         "5",
         "260"
        ],
        [
         "6",
         "236"
        ],
        [
         "4",
         "231"
        ],
        [
         "3",
         "224"
        ],
        [
         "2",
         "208"
        ],
        [
         "7",
         "198"
        ],
        [
         "8",
         "182"
        ],
        [
         "1",
         "158"
        ],
        [
         "10",
         "155"
        ],
        [
         "11",
         "147"
        ],
        [
         "9",
         "128"
        ],
        [
         "12",
         "122"
        ],
        [
         "13",
         "113"
        ],
        [
         "16",
         "105"
        ],
        [
         "17",
         "102"
        ],
        [
         "14",
         "97"
        ],
        [
         "20",
         "91"
        ],
        [
         "21",
         "90"
        ],
        [
         "26",
         "90"
        ],
        [
         "15",
         "89"
        ],
        [
         "28",
         "85"
        ],
        [
         "23",
         "81"
        ],
        [
         "18",
         "79"
        ],
        [
         "24",
         "76"
        ],
        [
         "31",
         "75"
        ],
        [
         "25",
         "72"
        ],
        [
         "27",
         "71"
        ],
        [
         "19",
         "69"
        ],
        [
         "32",
         "68"
        ],
        [
         "30",
         "67"
        ],
        [
         "33",
         "67"
        ],
        [
         "36",
         "67"
        ],
        [
         "35",
         "65"
        ],
        [
         "29",
         "64"
        ],
        [
         "22",
         "64"
        ],
        [
         "64",
         "64"
        ],
        [
         "34",
         "60"
        ],
        [
         "40",
         "58"
        ],
        [
         "90",
         "58"
        ],
        [
         "37",
         "58"
        ],
        [
         "41",
         "56"
        ],
        [
         "50",
         "55"
        ],
        [
         "45",
         "55"
        ],
        [
         "62",
         "55"
        ],
        [
         "39",
         "54"
        ],
        [
         "69",
         "54"
        ],
        [
         "86",
         "53"
        ],
        [
         "46",
         "53"
        ],
        [
         "106",
         "52"
        ],
        [
         "47",
         "52"
        ]
       ],
       "shape": {
        "columns": 1,
        "rows": 869
       }
      },
      "text/plain": [
       "cnt\n",
       "5      260\n",
       "6      236\n",
       "4      231\n",
       "3      224\n",
       "2      208\n",
       "      ... \n",
       "938      1\n",
       "826      1\n",
       "963      1\n",
       "708      1\n",
       "636      1\n",
       "Name: count, Length: 869, dtype: int64"
      ]
     },
     "execution_count": 12,
     "metadata": {},
     "output_type": "execute_result"
    }
   ],
   "source": [
    "combined_df['cnt'].value_counts()"
   ]
  },
  {
   "cell_type": "code",
   "execution_count": 13,
   "id": "da1d2dee",
   "metadata": {},
   "outputs": [
    {
     "name": "stdout",
     "output_type": "stream",
     "text": [
      "Mean number of bikes rented: 189.46\n",
      "Variance in number of bikes rented: 32901.46\n"
     ]
    }
   ],
   "source": [
    "mu = combined_df['cnt'].mean()\n",
    "var = combined_df['cnt'].var()\n",
    "print(f'Mean number of bikes rented: {mu:.2f}')\n",
    "print(f'Variance in number of bikes rented: {var:.2f}')"
   ]
  },
  {
   "cell_type": "code",
   "execution_count": 14,
   "id": "04a6aaf4",
   "metadata": {},
   "outputs": [
    {
     "data": {
      "image/png": "[encoded data removed]",
      "text/plain": [
       "<Figure size 640x480 with 1 Axes>"
      ]
     },
     "metadata": {},
     "output_type": "display_data"
    }
   ],
   "source": [
    "sns.histplot(data=combined_df, x='cnt', kde=True, stat='density', bins='auto')\n",
    "plt.xlabel(\"Bike rentals per observation\")\n",
    "plt.ylabel(\"Density\")\n",
    "plt.show()"
   ]
  },
  {
   "cell_type": "markdown",
   "id": "f26feda9",
   "metadata": {},
   "source": [
    "The number of bike rentals per observation ranges from 1 to 977 with a mean = 189.46 and variance = 32901.46. The distribution of bike rentals is overdispersed (variance is ~174 times larger than the mean) and right-skewed, which suggests that an appopriate distribution could be the Negative Binomial."
   ]
  },
  {
   "cell_type": "markdown",
   "id": "52878543",
   "metadata": {},
   "source": [
    "#### Explore numerical data"
   ]
  },
  {
   "cell_type": "code",
   "execution_count": 15,
   "id": "76dcc3ef",
   "metadata": {},
   "outputs": [
    {
     "data": {
      "image/png": "[encoded data removed]",
      "text/plain": [
       "<Figure size 1000x1000 with 12 Axes>"
      ]
     },
     "metadata": {},
     "output_type": "display_data"
    }
   ],
   "source": [
    "X.hist(figsize=(10,10), grid=False)\n",
    "plt.show()"
   ]
  },
  {
   "cell_type": "code",
   "execution_count": 18,
   "id": "29f62571",
   "metadata": {},
   "outputs": [
    {
     "data": {
      "image/png": "[encoded data removed]",
      "text/plain": [
       "<Figure size 800x800 with 2 Axes>"
      ]
     },
     "metadata": {},
     "output_type": "display_data"
    }
   ],
   "source": [
    "# Correlation\n",
    "corr_mat = combined_df.corr(numeric_only=True)\n",
    "\n",
    "plt.figure(figsize=(8,8))\n",
    "sns.heatmap(corr_mat, cmap='viridis')\n",
    "plt.show()"
   ]
  },
  {
   "cell_type": "code",
   "execution_count": 22,
   "id": "21d3ce80",
   "metadata": {},
   "outputs": [
    {
     "name": "stdout",
     "output_type": "stream",
     "text": [
      "season  mnth      0.830386\n",
      "mnth    season    0.830386\n",
      "temp    atemp     0.987672\n",
      "atemp   temp      0.987672\n",
      "dtype: float64\n"
     ]
    }
   ],
   "source": [
    "corr_pairs = corr_mat.stack()\n",
    "high_corr = corr_pairs[(corr_pairs > 0.5) & (corr_pairs < 1.0)]\n",
    "print(high_corr)"
   ]
  },
  {
   "cell_type": "markdown",
   "id": "b405d66d",
   "metadata": {},
   "source": [
    "#### Explore categorical data"
   ]
  },
  {
   "cell_type": "code",
   "execution_count": 23,
   "id": "94e121b4",
   "metadata": {},
   "outputs": [
    {
     "data": {
      "image/png": "[encoded data removed]",
      "text/plain": [
       "<Figure size 640x480 with 1 Axes>"
      ]
     },
     "metadata": {},
     "output_type": "display_data"
    }
   ],
   "source": [
    "combined_df.boxplot(column=\"cnt\", by=\"season\", grid=False)\n",
    "plt.title(\"Bike rental count per season\")\n",
    "plt.suptitle('')\n",
    "plt.xlabel(\"Season\")\n",
    "plt.xticks(np.arange((combined_df[\"season\"].nunique()))+1,\n",
    "           labels=[\"Winter\", \"Spring\", \"Summer\", \"Fall\"])\n",
    "plt.ylabel(\"Bike rental count\")\n",
    "plt.show()"
   ]
  },
  {
   "cell_type": "code",
   "execution_count": null,
   "id": "81fde1d3",
   "metadata": {},
   "outputs": [
    {
     "data": {
      "application/vnd.microsoft.datawrangler.viewer.v0+json": {
       "columns": [
        {
         "name": "index",
         "rawType": "int64",
         "type": "integer"
        },
        {
         "name": "dteday",
         "rawType": "object",
         "type": "string"
        },
        {
         "name": "yr",
         "rawType": "int64",
         "type": "integer"
        },
        {
         "name": "mnth",
         "rawType": "int64",
         "type": "integer"
        },
        {
         "name": "hr",
         "rawType": "int64",
         "type": "integer"
        },
        {
         "name": "holiday",
         "rawType": "int64",
         "type": "integer"
        },
        {
         "name": "weekday",
         "rawType": "int64",
         "type": "integer"
        },
        {
         "name": "workingday",
         "rawType": "int64",
         "type": "integer"
        },
        {
         "name": "weathersit",
         "rawType": "int64",
         "type": "integer"
        },
        {
         "name": "temp",
         "rawType": "float64",
         "type": "float"
        },
        {
         "name": "atemp",
         "rawType": "float64",
         "type": "float"
        },
        {
         "name": "hum",
         "rawType": "float64",
         "type": "float"
        },
        {
         "name": "windspeed",
         "rawType": "float64",
         "type": "float"
        },
        {
         "name": "cnt",
         "rawType": "int64",
         "type": "integer"
        },
        {
         "name": "Winter",
         "rawType": "bool",
         "type": "boolean"
        },
        {
         "name": "Spring",
         "rawType": "bool",
         "type": "boolean"
        },
        {
         "name": "Summer",
         "rawType": "bool",
         "type": "boolean"
        },
        {
         "name": "Fall",
         "rawType": "bool",
         "type": "boolean"
        }
       ],
       "ref": "963d133f-f306-4a74-b3dd-748b459d0c3e",
       "rows": [
        [
         "0",
         "2011-01-01",
         "0",
         "1",
         "0",
         "0",
         "6",
         "0",
         "1",
         "0.24",
         "0.2879",
         "0.81",
         "0.0",
         "16",
         "True",
         "False",
         "False",
         "False"
        ],
        [
         "1",
         "2011-01-01",
         "0",
         "1",
         "1",
         "0",
         "6",
         "0",
         "1",
         "0.22",
         "0.2727",
         "0.8",
         "0.0",
         "40",
         "True",
         "False",
         "False",
         "False"
        ],
        [
         "2",
         "2011-01-01",
         "0",
         "1",
         "2",
         "0",
         "6",
         "0",
         "1",
         "0.22",
         "0.2727",
         "0.8",
         "0.0",
         "32",
         "True",
         "False",
         "False",
         "False"
        ],
        [
         "3",
         "2011-01-01",
         "0",
         "1",
         "3",
         "0",
         "6",
         "0",
         "1",
         "0.24",
         "0.2879",
         "0.75",
         "0.0",
         "13",
         "True",
         "False",
         "False",
         "False"
        ],
        [
         "4",
         "2011-01-01",
         "0",
         "1",
         "4",
         "0",
         "6",
         "0",
         "1",
         "0.24",
         "0.2879",
         "0.75",
         "0.0",
         "1",
         "True",
         "False",
         "False",
         "False"
        ]
       ],
       "shape": {
        "columns": 17,
        "rows": 5
       }
      },
      "text/html": [
       "<div>\n",
       "<style scoped>\n",
       "    .dataframe tbody tr th:only-of-type {\n",
       "        vertical-align: middle;\n",
       "    }\n",
       "\n",
       "    .dataframe tbody tr th {\n",
       "        vertical-align: top;\n",
       "    }\n",
       "\n",
       "    .dataframe thead th {\n",
       "        text-align: right;\n",
       "    }\n",
       "</style>\n",
       "<table border=\"1\" class=\"dataframe\">\n",
       "  <thead>\n",
       "    <tr style=\"text-align: right;\">\n",
       "      <th></th>\n",
       "      <th>dteday</th>\n",
       "      <th>yr</th>\n",
       "      <th>mnth</th>\n",
       "      <th>hr</th>\n",
       "      <th>holiday</th>\n",
       "      <th>weekday</th>\n",
       "      <th>workingday</th>\n",
       "      <th>weathersit</th>\n",
       "      <th>temp</th>\n",
       "      <th>atemp</th>\n",
       "      <th>hum</th>\n",
       "      <th>windspeed</th>\n",
       "      <th>cnt</th>\n",
       "      <th>Winter</th>\n",
       "      <th>Spring</th>\n",
       "      <th>Summer</th>\n",
       "      <th>Fall</th>\n",
       "    </tr>\n",
       "  </thead>\n",
       "  <tbody>\n",
       "    <tr>\n",
       "      <th>0</th>\n",
       "      <td>2011-01-01</td>\n",
       "      <td>0</td>\n",
       "      <td>1</td>\n",
       "      <td>0</td>\n",
       "      <td>0</td>\n",
       "      <td>6</td>\n",
       "      <td>0</td>\n",
       "      <td>1</td>\n",
       "      <td>0.24</td>\n",
       "      <td>0.2879</td>\n",
       "      <td>0.81</td>\n",
       "      <td>0.0</td>\n",
       "      <td>16</td>\n",
       "      <td>True</td>\n",
       "      <td>False</td>\n",
       "      <td>False</td>\n",
       "      <td>False</td>\n",
       "    </tr>\n",
       "    <tr>\n",
       "      <th>1</th>\n",
       "      <td>2011-01-01</td>\n",
       "      <td>0</td>\n",
       "      <td>1</td>\n",
       "      <td>1</td>\n",
       "      <td>0</td>\n",
       "      <td>6</td>\n",
       "      <td>0</td>\n",
       "      <td>1</td>\n",
       "      <td>0.22</td>\n",
       "      <td>0.2727</td>\n",
       "      <td>0.80</td>\n",
       "      <td>0.0</td>\n",
       "      <td>40</td>\n",
       "      <td>True</td>\n",
       "      <td>False</td>\n",
       "      <td>False</td>\n",
       "      <td>False</td>\n",
       "    </tr>\n",
       "    <tr>\n",
       "      <th>2</th>\n",
       "      <td>2011-01-01</td>\n",
       "      <td>0</td>\n",
       "      <td>1</td>\n",
       "      <td>2</td>\n",
       "      <td>0</td>\n",
       "      <td>6</td>\n",
       "      <td>0</td>\n",
       "      <td>1</td>\n",
       "      <td>0.22</td>\n",
       "      <td>0.2727</td>\n",
       "      <td>0.80</td>\n",
       "      <td>0.0</td>\n",
       "      <td>32</td>\n",
       "      <td>True</td>\n",
       "      <td>False</td>\n",
       "      <td>False</td>\n",
       "      <td>False</td>\n",
       "    </tr>\n",
       "    <tr>\n",
       "      <th>3</th>\n",
       "      <td>2011-01-01</td>\n",
       "      <td>0</td>\n",
       "      <td>1</td>\n",
       "      <td>3</td>\n",
       "      <td>0</td>\n",
       "      <td>6</td>\n",
       "      <td>0</td>\n",
       "      <td>1</td>\n",
       "      <td>0.24</td>\n",
       "      <td>0.2879</td>\n",
       "      <td>0.75</td>\n",
       "      <td>0.0</td>\n",
       "      <td>13</td>\n",
       "      <td>True</td>\n",
       "      <td>False</td>\n",
       "      <td>False</td>\n",
       "      <td>False</td>\n",
       "    </tr>\n",
       "    <tr>\n",
       "      <th>4</th>\n",
       "      <td>2011-01-01</td>\n",
       "      <td>0</td>\n",
       "      <td>1</td>\n",
       "      <td>4</td>\n",
       "      <td>0</td>\n",
       "      <td>6</td>\n",
       "      <td>0</td>\n",
       "      <td>1</td>\n",
       "      <td>0.24</td>\n",
       "      <td>0.2879</td>\n",
       "      <td>0.75</td>\n",
       "      <td>0.0</td>\n",
       "      <td>1</td>\n",
       "      <td>True</td>\n",
       "      <td>False</td>\n",
       "      <td>False</td>\n",
       "      <td>False</td>\n",
       "    </tr>\n",
       "  </tbody>\n",
       "</table>\n",
       "</div>"
      ],
      "text/plain": [
       "       dteday  yr  mnth  hr  holiday  weekday  workingday  weathersit  temp  \\\n",
       "0  2011-01-01   0     1   0        0        6           0           1  0.24   \n",
       "1  2011-01-01   0     1   1        0        6           0           1  0.22   \n",
       "2  2011-01-01   0     1   2        0        6           0           1  0.22   \n",
       "3  2011-01-01   0     1   3        0        6           0           1  0.24   \n",
       "4  2011-01-01   0     1   4        0        6           0           1  0.24   \n",
       "\n",
       "    atemp   hum  windspeed  cnt  Winter  Spring  Summer   Fall  \n",
       "0  0.2879  0.81        0.0   16    True   False   False  False  \n",
       "1  0.2727  0.80        0.0   40    True   False   False  False  \n",
       "2  0.2727  0.80        0.0   32    True   False   False  False  \n",
       "3  0.2879  0.75        0.0   13    True   False   False  False  \n",
       "4  0.2879  0.75        0.0    1    True   False   False  False  "
      ]
     },
     "execution_count": 56,
     "metadata": {},
     "output_type": "execute_result"
    }
   ],
   "source": []
  },
  {
   "cell_type": "code",
   "execution_count": 24,
   "id": "f793b30f",
   "metadata": {},
   "outputs": [
    {
     "name": "stdout",
     "output_type": "stream",
     "text": [
      "                 sum_sq       df           F         PR(>F)\n",
      "C(season)  3.772936e+07      3.0  409.181037  7.401071e-257\n",
      "Residual   5.340322e+08  17375.0         NaN            NaN\n",
      " Multiple Comparison of Means - Tukey HSD, FWER=0.05  \n",
      "======================================================\n",
      "group1 group2 meandiff p-adj   lower    upper   reject\n",
      "------------------------------------------------------\n",
      "     1      2  97.2295    0.0   87.542  106.917   True\n",
      "     1      3 124.9017    0.0 115.2603 134.5431   True\n",
      "     1      4  87.7543    0.0   77.968  97.5406   True\n",
      "     2      3  27.6722    0.0  18.1252  37.2192   True\n",
      "     2      4  -9.4752 0.0582 -19.1685   0.2181  False\n",
      "     3      4 -37.1474    0.0 -46.7946 -27.5001   True\n",
      "------------------------------------------------------\n"
     ]
    }
   ],
   "source": [
    "# ANOVA\n",
    "season_model = ols('cnt ~ C(season)', data=combined_df).fit()\n",
    "season_anova = sm.stats.anova_lm(season_model, typ=2)\n",
    "print(season_anova)\n",
    "\n",
    "# Tukey's HSD\n",
    "season_tukey = pairwise_tukeyhsd(endog=combined_df['cnt'], groups=combined_df['season'], alpha=0.05)\n",
    "print(season_tukey)"
   ]
  },
  {
   "cell_type": "markdown",
   "id": "d18f7ffe",
   "metadata": {},
   "source": [
    "ANOVA shows that there is a significant difference in the number of bikes rented among seasons. And the Tukuey's HSD reveals that bike rentals in winter are significantly lower than all other seasons and rentals are significantly higher in summer than all other seasons. Bike rentals in spring and fall are not significantly different from each other, but together the rentals are higher than in winter and lower than in summer seasons."
   ]
  },
  {
   "cell_type": "code",
   "execution_count": null,
   "id": "d2fc8666",
   "metadata": {},
   "outputs": [
    {
     "data": {
      "image/png": "[encoded data removed]",
      "text/plain": [
       "<Figure size 640x480 with 1 Axes>"
      ]
     },
     "metadata": {},
     "output_type": "display_data"
    }
   ],
   "source": [
    "combined_df.boxplot(column=\"cnt\", by=\"weekday\", grid=False)\n",
    "plt.title(\"Bike rental count per day of the week\")\n",
    "plt.suptitle('')\n",
    "plt.xlabel(\"Day\")\n",
    "plt.ylabel(\"Bike rental count\")\n",
    "plt.xticks(np.arange((combined_df[\"weekday\"].nunique()))+1,\n",
    "           labels=[\"Sun\", \"Mon\", \"Tue\", \"Wed\", \"Thu\", \"Fri\", \"Sat\"])\n",
    "plt.show()"
   ]
  },
  {
   "cell_type": "code",
   "execution_count": 25,
   "id": "164a9e35",
   "metadata": {},
   "outputs": [
    {
     "name": "stdout",
     "output_type": "stream",
     "text": [
      "                  sum_sq       df        F    PR(>F)\n",
      "C(weekday)  6.879294e+05      6.0  3.48779  0.001899\n",
      "Residual    5.710737e+08  17372.0      NaN       NaN\n",
      " Multiple Comparison of Means - Tukey HSD, FWER=0.05 \n",
      "=====================================================\n",
      "group1 group2 meandiff p-adj   lower    upper  reject\n",
      "-----------------------------------------------------\n",
      "     0      1   6.2758 0.8861  -8.8745 21.4262  False\n",
      "     0      2  13.7701 0.1052  -1.4206 28.9607  False\n",
      "     0      3  13.6617 0.1092  -1.4948 28.8182  False\n",
      "     0      4  18.9678 0.0042   3.8052 34.1305   True\n",
      "     0      5  18.6671 0.0052    3.529 33.8052   True\n",
      "     0      6   12.741 0.1636  -2.3593 27.8413  False\n",
      "     1      2   7.4942 0.7736  -7.7313 22.7197  False\n",
      "     1      3   7.3858 0.7836  -7.8056 22.5773  False\n",
      "     1      4   12.692 0.1732  -2.5056 27.8896  False\n",
      "     1      5  12.3913  0.195  -2.7818 27.5643  False\n",
      "     1      6   6.4651 0.8703  -8.6702 21.6005  False\n",
      "     2      3  -0.1084    1.0   -15.34 15.1232  False\n",
      "     2      4   5.1978 0.9529   -10.04 20.4355  False\n",
      "     2      5    4.897 0.9644 -10.3163 20.1103  False\n",
      "     2      6  -1.0291    1.0 -16.2048 14.1466  False\n",
      "     3      4   5.3062 0.9474  -9.8976 20.5099  False\n",
      "     3      5   5.0054   0.96 -10.1738 20.1846  False\n",
      "     3      6  -0.9207    1.0 -16.0622 14.2208  False\n",
      "     4      5  -0.3008    1.0 -15.4861 14.8846  False\n",
      "     4      6  -6.2269 0.8898 -21.3746  8.9208  False\n",
      "     5      6  -5.9261 0.9106 -21.0492   9.197  False\n",
      "-----------------------------------------------------\n"
     ]
    },
    {
     "name": "stderr",
     "output_type": "stream",
     "text": [
      "c:\\Users\\Paul.Carvalho\\Documents\\data science\\python\\Bike-Sharing-EDA\\venv\\Lib\\site-packages\\scipy\\integrate\\_quadpack_py.py:1264: IntegrationWarning: The integral is probably divergent, or slowly convergent.\n",
      "  quad_r = quad(f, low, high, args=args, full_output=self.full_output,\n"
     ]
    }
   ],
   "source": [
    "# Day of the week ANOVA\n",
    "weekday_model = ols('cnt ~ C(weekday)', data=combined_df).fit()\n",
    "weekday_anova = sm.stats.anova_lm(weekday_model, typ=2)\n",
    "print(weekday_anova)\n",
    "\n",
    "# Tukey's HSD\n",
    "weekday_tukey = pairwise_tukeyhsd(endog=combined_df['cnt'], groups=combined_df['weekday'], alpha=0.05)\n",
    "print(weekday_tukey)"
   ]
  },
  {
   "cell_type": "markdown",
   "id": "efeb93bb",
   "metadata": {},
   "source": [
    "ANOVA and Tukey's HSD shows that bike rentals on Thursday and Friday are significantly higher than on Sunday."
   ]
  },
  {
   "cell_type": "code",
   "execution_count": 26,
   "id": "d06b6013",
   "metadata": {},
   "outputs": [
    {
     "data": {
      "image/png": "[encoded data removed]",
      "text/plain": [
       "<Figure size 640x480 with 1 Axes>"
      ]
     },
     "metadata": {},
     "output_type": "display_data"
    }
   ],
   "source": [
    "combined_df.boxplot(column='cnt', by='hr', grid=False)\n",
    "plt.title(\"Bike rental count per hour of the day\")\n",
    "plt.suptitle('')\n",
    "plt.xlabel(\"Hour\")\n",
    "plt.ylabel(\"Bike rental count\")\n",
    "plt.show()"
   ]
  },
  {
   "cell_type": "code",
   "execution_count": 27,
   "id": "64fb1292",
   "metadata": {},
   "outputs": [
    {
     "name": "stdout",
     "output_type": "stream",
     "text": [
      "                sum_sq       df           F  PR(>F)\n",
      "C(hr)     2.867347e+08     23.0  759.086281     0.0\n",
      "Residual  2.850269e+08  17355.0         NaN     NaN\n"
     ]
    },
    {
     "name": "stderr",
     "output_type": "stream",
     "text": [
      "c:\\Users\\Paul.Carvalho\\Documents\\data science\\python\\Bike-Sharing-EDA\\venv\\Lib\\site-packages\\scipy\\integrate\\_quadpack_py.py:1264: IntegrationWarning: The integral is probably divergent, or slowly convergent.\n",
      "  quad_r = quad(f, low, high, args=args, full_output=self.full_output,\n"
     ]
    },
    {
     "name": "stdout",
     "output_type": "stream",
     "text": [
      "   Multiple Comparison of Means - Tukey HSD, FWER=0.05   \n",
      "=========================================================\n",
      "group1 group2  meandiff p-adj    lower     upper   reject\n",
      "---------------------------------------------------------\n",
      "     0      1  -20.5224 0.2636  -45.0086    3.9638  False\n",
      "     0      2  -31.0281 0.0011  -55.5914   -6.4649   True\n",
      "     0      3  -42.1707    0.0  -66.8932  -17.4481   True\n",
      "     0      4  -47.5451    0.0  -72.2677  -22.8226   True\n",
      "     0      5  -34.0083 0.0001  -58.5542   -9.4623   True\n",
      "     0      6   22.1461 0.1433   -2.3317   46.6238  False\n",
      "     0      7  158.1666    0.0  133.7057  182.6275   True\n",
      "     0      8  305.1129    0.0   280.652  329.5738   True\n",
      "     0      9  165.4114    0.0  140.9505  189.8723   True\n",
      "     0     10  119.7704    0.0   95.3095  144.2313   True\n",
      "     0     11   154.245    0.0  129.7841  178.7059   True\n",
      "     0     12  199.4179    0.0  174.9654  223.8704   True\n",
      "     0     13  199.7631    0.0   175.319  224.2072   True\n",
      "     0     14  187.0512    0.0   162.607  211.4953   True\n",
      "     0     15  197.3351    0.0   172.891  221.7793   True\n",
      "     0     16  258.0855    0.0  233.6497  282.5213   True\n",
      "     0     17   407.554    0.0  383.1182  431.9898   True\n",
      "     0     18  371.6129    0.0  347.1604  396.0654   True\n",
      "     0     19  257.6253    0.0  233.1728  282.0778   True\n",
      "     0     20  172.1321    0.0  147.6796  196.5847   True\n",
      "     0     21  118.4165    0.0    93.964   142.869   True\n",
      "     0     22   77.4371    0.0   52.9846  101.8896   True\n",
      "     0     23    33.933 0.0001    9.4805   58.3855   True\n",
      "     1      2  -10.5058 0.9977  -35.0858   14.0743  False\n",
      "     1      3  -21.6483 0.1906  -46.3875     3.091  False\n",
      "     1      4  -27.0227  0.015   -51.762   -2.2835   True\n",
      "     1      5  -13.4859 0.9477  -38.0487    11.077  False\n",
      "     1      6   42.6684    0.0   18.1738   67.1631   True\n",
      "     1      7   178.689    0.0  154.2112  203.1668   True\n",
      "     1      8  325.6353    0.0  301.1575  350.1131   True\n",
      "     1      9  185.9338    0.0   161.456  210.4116   True\n",
      "     1     10  140.2928    0.0   115.815  164.7706   True\n",
      "     1     11  174.7674    0.0  150.2896  199.2452   True\n",
      "     1     12  219.9402    0.0  195.4708  244.4097   True\n",
      "     1     13  220.2855    0.0  195.8244  244.7465   True\n",
      "     1     14  207.5736    0.0  183.1125  232.0346   True\n",
      "     1     15  217.8575    0.0  193.3965  242.3185   True\n",
      "     1     16  278.6079    0.0  254.1552  303.0606   True\n",
      "     1     17  428.0764    0.0  403.6237  452.5291   True\n",
      "     1     18  392.1353    0.0  367.6659  416.6047   True\n",
      "     1     19  278.1477    0.0  253.6782  302.6171   True\n",
      "     1     20  192.6545    0.0  168.1851  217.1239   True\n",
      "     1     21  138.9389    0.0  114.4695  163.4083   True\n",
      "     1     22   97.9595    0.0   73.4901  122.4289   True\n",
      "     1     23   54.4554    0.0   29.9859   78.9248   True\n",
      "     2      3  -11.1425 0.9954   -35.958    13.673  False\n",
      "     2      4   -16.517 0.7348  -41.3325    8.2985  False\n",
      "     2      5   -2.9801    1.0  -27.6197   21.6595  False\n",
      "     2      6   53.1742    0.0   28.6026   77.7459   True\n",
      "     2      7  189.1947    0.0  164.6399  213.7496   True\n",
      "     2      8  336.1411    0.0  311.5862  360.6959   True\n",
      "     2      9  196.4396    0.0  171.8847  220.9944   True\n",
      "     2     10  150.7986    0.0  126.2437  175.3534   True\n",
      "     2     11  185.2731    0.0  160.7183   209.828   True\n",
      "     2     12   230.446    0.0  205.8995  254.9925   True\n",
      "     2     13  230.7912    0.0  206.2531  255.3294   True\n",
      "     2     14  218.0793    0.0  193.5412  242.6175   True\n",
      "     2     15  228.3633    0.0  203.8251  252.9014   True\n",
      "     2     16  289.1136    0.0  264.5838  313.6435   True\n",
      "     2     17  438.5821    0.0  414.0523   463.112   True\n",
      "     2     18  402.6411    0.0  378.0946  427.1876   True\n",
      "     2     19  288.6534    0.0  264.1069  313.1999   True\n",
      "     2     20  203.1603    0.0  178.6138  227.7068   True\n",
      "     2     21  149.4446    0.0  124.8981  173.9911   True\n",
      "     2     22  108.4652    0.0   83.9187  133.0117   True\n",
      "     2     23   64.9611    0.0   40.4146   89.5076   True\n",
      "     3      4   -5.3745    1.0  -30.3476   19.5987  False\n",
      "     3      5    8.1624    1.0   -16.636   32.9608  False\n",
      "     3      6   64.3167    0.0   39.5859   89.0476   True\n",
      "     3      7  200.3372    0.0   175.623  225.0514   True\n",
      "     3      8  347.2836    0.0  322.5694  371.9978   True\n",
      "     3      9  207.5821    0.0  182.8679  232.2963   True\n",
      "     3     10  161.9411    0.0  137.2269  186.6553   True\n",
      "     3     11  196.4157    0.0  171.7014  221.1299   True\n",
      "     3     12  241.5885    0.0  216.8826  266.2944   True\n",
      "     3     13  241.9338    0.0  217.2362  266.6314   True\n",
      "     3     14  229.2218    0.0  204.5242  253.9194   True\n",
      "     3     15  239.5058    0.0  214.8082  264.2034   True\n",
      "     3     16  300.2562    0.0  275.5668  324.9455   True\n",
      "     3     17  449.7247    0.0  425.0353   474.414   True\n",
      "     3     18  413.7836    0.0  389.0777  438.4895   True\n",
      "     3     19  299.7959    0.0  275.0901  324.5018   True\n",
      "     3     20  214.3028    0.0  189.5969  239.0087   True\n",
      "     3     21  160.5872    0.0  135.8813  185.2931   True\n",
      "     3     22  119.6078    0.0   94.9019  144.3137   True\n",
      "     3     23   76.1036    0.0   51.3977  100.8095   True\n",
      "     4      5   13.5369 0.9508  -11.2615   38.3353  False\n",
      "     4      6   69.6912    0.0   44.9603   94.4221   True\n",
      "     4      7  205.7117    0.0  180.9975  230.4259   True\n",
      "     4      8  352.6581    0.0  327.9439  377.3723   True\n",
      "     4      9  212.9565    0.0  188.2423  237.6708   True\n",
      "     4     10  167.3156    0.0  142.6014  192.0298   True\n",
      "     4     11  201.7901    0.0  177.0759  226.5043   True\n",
      "     4     12   246.963    0.0  222.2571  271.6689   True\n",
      "     4     13  247.3082    0.0  222.6106  272.0058   True\n",
      "     4     14  234.5963    0.0  209.8987  259.2939   True\n",
      "     4     15  244.8803    0.0  220.1827  269.5779   True\n",
      "     4     16  305.6306    0.0  280.9413    330.32   True\n",
      "     4     17  455.0991    0.0  430.4098  479.7884   True\n",
      "     4     18   419.158    0.0  394.4522  443.8639   True\n",
      "     4     19  305.1704    0.0  280.4645  329.8763   True\n",
      "     4     20  219.6773    0.0  194.9714  244.3832   True\n",
      "     4     21  165.9616    0.0  141.2557  190.6675   True\n",
      "     4     22  124.9822    0.0  100.2763  149.6881   True\n",
      "     4     23   81.4781    0.0   56.7722   106.184   True\n",
      "     5      6   56.1543    0.0   31.5999   80.7087   True\n",
      "     5      7  192.1748    0.0  167.6372  216.7124   True\n",
      "     5      8  339.1212    0.0  314.5836  363.6588   True\n",
      "     5      9  199.4197    0.0  174.8821  223.9573   True\n",
      "     5     10  153.7787    0.0  129.2411  178.3163   True\n",
      "     5     11  188.2532    0.0  163.7156  212.7908   True\n",
      "     5     12  233.4261    0.0  208.8969  257.9553   True\n",
      "     5     13  233.7714    0.0  209.2505  258.2922   True\n",
      "     5     14  221.0594    0.0  196.5385  245.5803   True\n",
      "     5     15  231.3434    0.0  206.8225  255.8643   True\n",
      "     5     16  292.0937    0.0  267.5812  316.6063   True\n",
      "     5     17  441.5622    0.0  417.0497  466.0748   True\n",
      "     5     18  405.6212    0.0  381.0919  430.1504   True\n",
      "     5     19  291.6335    0.0  267.1043  316.1628   True\n",
      "     5     20  206.1404    0.0  181.6112  230.6696   True\n",
      "     5     21  152.4247    0.0  127.8955   176.954   True\n",
      "     5     22  111.4453    0.0   86.9161  135.9746   True\n",
      "     5     23   67.9412    0.0    43.412   92.4705   True\n",
      "     6      7  136.0205    0.0  111.5512  160.4899   True\n",
      "     6      8  282.9669    0.0  258.4975  307.4362   True\n",
      "     6      9  143.2654    0.0   118.796  167.7347   True\n",
      "     6     10   97.6244    0.0    73.155  122.0937   True\n",
      "     6     11  132.0989    0.0  107.6296  156.5683   True\n",
      "     6     12  177.2718    0.0  152.8108  201.7327   True\n",
      "     6     13   177.617    0.0  153.1645  202.0696   True\n",
      "     6     14  164.9051    0.0  140.4525  189.3577   True\n",
      "     6     15  175.1891    0.0  150.7365  199.6416   True\n",
      "     6     16  235.9394    0.0  211.4952  260.3836   True\n",
      "     6     17  385.4079    0.0  360.9637  409.8521   True\n",
      "     6     18  349.4669    0.0  325.0059  373.9278   True\n",
      "     6     19  235.4792    0.0  211.0183  259.9402   True\n",
      "     6     20  149.9861    0.0  125.5251   174.447   True\n",
      "     6     21   96.2704    0.0   71.8095  120.7314   True\n",
      "     6     22    55.291    0.0   30.8301    79.752   True\n",
      "     6     23   11.7869 0.9883   -12.674   36.2479  False\n",
      "     7      8  146.9464    0.0  122.4939  171.3988   True\n",
      "     7      9    7.2448    1.0  -17.2076   31.6973  False\n",
      "     7     10  -38.3961    0.0  -62.8486  -13.9437   True\n",
      "     7     11   -3.9216    1.0  -28.3741   20.5309  False\n",
      "     7     12   41.2513    0.0   16.8072   65.6954   True\n",
      "     7     13   41.5965    0.0   17.1608   66.0322   True\n",
      "     7     14   28.8846  0.004    4.4489   53.3203   True\n",
      "     7     15   39.1685    0.0   14.7328   63.6043   True\n",
      "     7     16   99.9189    0.0   75.4916  124.3463   True\n",
      "     7     17  249.3874    0.0  224.9601  273.8148   True\n",
      "     7     18  213.4463    0.0  189.0023  237.8904   True\n",
      "     7     19   99.4587    0.0   75.0146  123.9028   True\n",
      "     7     20   13.9656 0.9225  -10.4785   38.4097  False\n",
      "     7     21  -39.7501    0.0  -64.1942   -15.306   True\n",
      "     7     22  -80.7295    0.0 -105.1736  -56.2854   True\n",
      "     7     23 -124.2336    0.0 -148.6777  -99.7895   True\n",
      "     8      9 -139.7015    0.0  -164.154  -115.249   True\n",
      "     8     10 -185.3425    0.0  -209.795   -160.89   True\n",
      "     8     11  -150.868    0.0 -175.3204 -126.4155   True\n",
      "     8     12 -105.6951    0.0 -130.1392   -81.251   True\n",
      "     8     13 -105.3498    0.0 -129.7855  -80.9141   True\n",
      "     8     14 -118.0618    0.0 -142.4975  -93.6261   True\n",
      "     8     15 -107.7778    0.0 -132.2135  -83.3421   True\n",
      "     8     16  -47.0274    0.0  -71.4548  -22.6001   True\n",
      "     8     17  102.4411    0.0   78.0137  126.8684   True\n",
      "     8     18      66.5    0.0   42.0559   90.9441   True\n",
      "     8     19  -47.4877    0.0  -71.9317  -23.0436   True\n",
      "     8     20 -132.9808    0.0 -157.4249 -108.5367   True\n",
      "     8     21 -186.6964    0.0 -211.1405 -162.2524   True\n",
      "     8     22 -227.6758    0.0 -252.1199 -203.2318   True\n",
      "     8     23   -271.18    0.0  -295.624 -246.7359   True\n",
      "     9     10   -45.641    0.0  -70.0935  -21.1885   True\n",
      "     9     11  -11.1664 0.9942  -35.6189    13.286  False\n",
      "     9     12   34.0064 0.0001    9.5624   58.4505   True\n",
      "     9     13   34.3517 0.0001     9.916   58.7874   True\n",
      "     9     14   21.6398 0.1727    -2.796   46.0755  False\n",
      "     9     15   31.9237 0.0005     7.488   56.3594   True\n",
      "     9     16   92.6741    0.0   68.2467  117.1014   True\n",
      "     9     17  242.1426    0.0  217.7152  266.5699   True\n",
      "     9     18  206.2015    0.0  181.7574  230.6456   True\n",
      "     9     19   92.2139    0.0   67.7698  116.6579   True\n",
      "     9     20    6.7207    1.0  -17.7234   31.1648  False\n",
      "     9     21  -46.9949    0.0   -71.439  -22.5508   True\n",
      "     9     22  -87.9743    0.0 -112.4184  -63.5302   True\n",
      "     9     23 -131.4784    0.0 -155.9225 -107.0344   True\n",
      "    10     11   34.4746 0.0001   10.0221    58.927   True\n",
      "    10     12   79.6474    0.0   55.2033  104.0915   True\n",
      "    10     13   79.9927    0.0    55.557  104.4284   True\n",
      "    10     14   67.2807    0.0    42.845   91.7165   True\n",
      "    10     15   77.5647    0.0    53.129  102.0004   True\n",
      "    10     16  138.3151    0.0  113.8877  162.7424   True\n",
      "    10     17  287.7836    0.0  263.3562  312.2109   True\n",
      "    10     18  251.8425    0.0  227.3984  276.2866   True\n",
      "    10     19  137.8549    0.0  113.4108  162.2989   True\n",
      "    10     20   52.3617    0.0   27.9176   76.8058   True\n",
      "    10     21   -1.3539    1.0   -25.798   23.0901  False\n",
      "    10     22  -42.3333    0.0  -66.7774  -17.8892   True\n",
      "    10     23  -85.8375    0.0 -110.2815  -61.3934   True\n",
      "    11     12   45.1729    0.0   20.7288    69.617   True\n",
      "    11     13   45.5181    0.0   21.0824   69.9538   True\n",
      "    11     14   32.8062 0.0003    8.3705   57.2419   True\n",
      "    11     15   43.0901    0.0   18.6544   67.5259   True\n",
      "    11     16  103.8405    0.0   79.4132  128.2679   True\n",
      "    11     17   253.309    0.0  228.8817  277.7364   True\n",
      "    11     18  217.3679    0.0  192.9238   241.812   True\n",
      "    11     19  103.3803    0.0   78.9362  127.8244   True\n",
      "    11     20   17.8872 0.5469   -6.5569   42.3313  False\n",
      "    11     21  -35.8285    0.0  -60.2726  -11.3844   True\n",
      "    11     22  -76.8079    0.0  -101.252  -52.3638   True\n",
      "    11     23  -120.312    0.0 -144.7561  -95.8679   True\n",
      "    12     13    0.3452    1.0  -24.0821   24.7725  False\n",
      "    12     14  -12.3667 0.9786   -36.794   12.0606  False\n",
      "    12     15   -2.0827    1.0    -26.51   22.3446  False\n",
      "    12     16   58.6676    0.0   34.2487   83.0866   True\n",
      "    12     17  208.1361    0.0  183.7172  232.5551   True\n",
      "    12     18  172.1951    0.0  147.7594  196.6307   True\n",
      "    12     19   58.2074    0.0   33.7717   82.6431   True\n",
      "    12     20  -27.2857 0.0107  -51.7214     -2.85   True\n",
      "    12     21  -81.0014    0.0 -105.4371  -56.5657   True\n",
      "    12     22 -121.9808    0.0 -146.4165  -97.5451   True\n",
      "    12     23 -165.4849    0.0 -189.9206 -141.0492   True\n",
      "    13     14  -12.7119 0.9705  -37.1309    11.707  False\n",
      "    13     15    -2.428    1.0  -26.8469   21.9909  False\n",
      "    13     16   58.3224    0.0   33.9118   82.7329   True\n",
      "    13     17  207.7909    0.0  183.3803  232.2014   True\n",
      "    13     18  171.8498    0.0  147.4225  196.2771   True\n",
      "    13     19   57.8622    0.0   33.4349   82.2895   True\n",
      "    13     20   -27.631 0.0086  -52.0583   -3.2037   True\n",
      "    13     21  -81.3466    0.0 -105.7739  -56.9193   True\n",
      "    13     22  -122.326    0.0 -146.7533  -97.8987   True\n",
      "    13     23 -165.8301    0.0 -190.2574 -141.4028   True\n",
      "    14     15    10.284 0.9981   -14.135   34.7029  False\n",
      "    14     16   71.0343    0.0   46.6238   95.4449   True\n",
      "    14     17  220.5028    0.0  196.0923  244.9134   True\n",
      "    14     18  184.5617    0.0  160.1344   208.989   True\n",
      "    14     19   70.5741    0.0   46.1468   95.0014   True\n",
      "    14     20   -14.919 0.8597  -39.3463    9.5083  False\n",
      "    14     21  -68.6347    0.0   -93.062  -44.2074   True\n",
      "    14     22 -109.6141    0.0 -134.0414  -85.1868   True\n",
      "    14     23 -153.1182    0.0 -177.5455 -128.6909   True\n",
      "    15     16   60.7504    0.0   36.3398   85.1609   True\n",
      "    15     17  210.2189    0.0  185.8083  234.6294   True\n",
      "    15     18  174.2778    0.0  149.8505  198.7051   True\n",
      "    15     19   60.2902    0.0   35.8629   84.7175   True\n",
      "    15     20   -25.203 0.0337  -49.6303   -0.7757   True\n",
      "    15     21  -78.9186    0.0 -103.3459  -54.4913   True\n",
      "    15     22  -119.898    0.0 -144.3253  -95.4707   True\n",
      "    15     23 -163.4022    0.0 -187.8295 -138.9748   True\n",
      "    16     17  149.4685    0.0  125.0663  173.8707   True\n",
      "    16     18  113.5274    0.0   89.1085  137.9464   True\n",
      "    16     19   -0.4602    1.0  -24.8792   23.9587  False\n",
      "    16     20  -85.9533    0.0 -110.3723  -61.5344   True\n",
      "    16     21  -139.669    0.0 -164.0879 -115.2501   True\n",
      "    16     22 -180.6484    0.0 -205.0673 -156.2295   True\n",
      "    16     23 -224.1525    0.0 -248.5715 -199.7336   True\n",
      "    17     18  -35.9411    0.0    -60.36  -11.5221   True\n",
      "    17     19 -149.9287    0.0 -174.3476 -125.5098   True\n",
      "    17     20 -235.4218    0.0 -259.8408 -211.0029   True\n",
      "    17     21 -289.1375    0.0 -313.5564 -264.7186   True\n",
      "    17     22 -330.1169    0.0 -354.5358 -305.6979   True\n",
      "    17     23  -373.621    0.0   -398.04 -349.2021   True\n",
      "    18     19 -113.9876    0.0 -138.4233   -89.552   True\n",
      "    18     20 -199.4808    0.0 -223.9165 -175.0451   True\n",
      "    18     21 -253.1964    0.0 -277.6321 -228.7607   True\n",
      "    18     22 -294.1758    0.0 -318.6115 -269.7401   True\n",
      "    18     23 -337.6799    0.0 -362.1156 -313.2443   True\n",
      "    19     20  -85.4931    0.0 -109.9288  -61.0574   True\n",
      "    19     21 -139.2088    0.0 -163.6445 -114.7731   True\n",
      "    19     22 -180.1882    0.0 -204.6239 -155.7525   True\n",
      "    19     23 -223.6923    0.0  -248.128 -199.2566   True\n",
      "    20     21  -53.7157    0.0  -78.1513    -29.28   True\n",
      "    20     22  -94.6951    0.0 -119.1307  -70.2594   True\n",
      "    20     23 -138.1992    0.0 -162.6349 -113.7635   True\n",
      "    21     22  -40.9794    0.0  -65.4151  -16.5437   True\n",
      "    21     23  -84.4835    0.0 -108.9192  -60.0478   True\n",
      "    22     23  -43.5041    0.0  -67.9398  -19.0684   True\n",
      "---------------------------------------------------------\n"
     ]
    }
   ],
   "source": [
    "# Hour of the day ANOVA\n",
    "hr_model = ols('cnt ~ C(hr)', data=combined_df).fit()\n",
    "hr_anova = sm.stats.anova_lm(hr_model, typ=2)\n",
    "print(hr_anova)\n",
    "\n",
    "# Tukey's HSD\n",
    "hr_tukey = pairwise_tukeyhsd(endog=combined_df['cnt'], groups=combined_df['hr'], alpha=0.05)\n",
    "print(hr_tukey)"
   ]
  },
  {
   "cell_type": "markdown",
   "id": "82df1025",
   "metadata": {},
   "source": [
    "ANOVA and Tukey's HSD reveals a significant difference in bike rentals over the course of a day, and many of the pairwise comparisons among hours were significantly different from each other."
   ]
  },
  {
   "cell_type": "code",
   "execution_count": 28,
   "id": "4781c2c6",
   "metadata": {},
   "outputs": [
    {
     "data": {
      "image/png": "[encoded data removed]",
      "text/plain": [
       "<Figure size 640x480 with 1 Axes>"
      ]
     },
     "metadata": {},
     "output_type": "display_data"
    }
   ],
   "source": [
    "combined_df.boxplot(column=\"cnt\", by=\"weathersit\", grid=False)\n",
    "plt.title(\"Bike rental count per weather category\")\n",
    "plt.suptitle('')\n",
    "plt.xlabel(\"\")\n",
    "plt.xticks(np.arange((combined_df[\"weathersit\"].nunique()))+1,\n",
    "           labels=[\"Clear\", \"Mist\", \"Light rain/snow\", \"Heavy rain/snow\"])\n",
    "plt.ylabel(\"Bike rentals\")\n",
    "plt.show()"
   ]
  },
  {
   "cell_type": "code",
   "execution_count": null,
   "id": "b91c8d68",
   "metadata": {},
   "outputs": [
    {
     "name": "stdout",
     "output_type": "stream",
     "text": [
      "                     sum_sq       df           F        PR(>F)\n",
      "C(weathersit)  1.228503e+07      3.0  127.173869  1.734782e-81\n",
      "Residual       5.594766e+08  17375.0         NaN           NaN\n",
      "  Multiple Comparison of Means - Tukey HSD, FWER=0.05   \n",
      "========================================================\n",
      "group1 group2  meandiff p-adj    lower    upper   reject\n",
      "--------------------------------------------------------\n",
      "     1      2  -29.7038    0.0  -37.7909 -21.6166   True\n",
      "     1      3    -93.29    0.0 -106.2676 -80.3123   True\n",
      "     1      4 -130.5359 0.5886 -396.7534 135.6815  False\n",
      "     2      3  -63.5862    0.0  -77.6067 -49.5658   True\n",
      "     2      4 -100.8322 0.7649 -367.1025 165.4381  False\n",
      "     3      4  -37.2459 0.9841 -303.7096 229.2177  False\n",
      "--------------------------------------------------------\n"
     ]
    }
   ],
   "source": [
    "# Weather ANOVA\n",
    "weather_model = ols('cnt ~ C(weathersit)', data=combined_df).fit()\n",
    "weather_anova = sm.stats.anova_lm(weather_model, typ=2)\n",
    "print(weather_anova)\n",
    "\n",
    "# Tukey's HSD\n",
    "weather_tukey = pairwise_tukeyhsd(endog=combined_df['cnt'], groups=combined_df['weathersit'], alpha=0.05)\n",
    "print(weather_tukey)"
   ]
  },
  {
   "cell_type": "markdown",
   "id": "9bc7a711",
   "metadata": {},
   "source": [
    "ANOVA and Tukey's HSD reveals a significant difference in bike renatls among weather situation. The pairwise comparisons are significantly difference accept for heavy rain/snow. However, visual inspection shows trend that bike rentals are generally lower in heavy rain/snow compared to the other weather categories."
   ]
  },
  {
   "cell_type": "code",
   "execution_count": 29,
   "id": "d0db316d",
   "metadata": {},
   "outputs": [],
   "source": [
    "# Temporal analysis\n",
    "combined_df[\"dteday\"] = pd.to_datetime(combined_df[\"dteday\"])\n",
    "combined_df.set_index('dteday', inplace=True)"
   ]
  },
  {
   "cell_type": "code",
   "execution_count": 30,
   "id": "fc416d67",
   "metadata": {},
   "outputs": [
    {
     "data": {
      "image/png": "[encoded data removed]",
      "text/plain": [
       "<Figure size 1000x600 with 1 Axes>"
      ]
     },
     "metadata": {},
     "output_type": "display_data"
    }
   ],
   "source": [
    "combined_df.plot(y=\"cnt\", figsize=(10,6))\n",
    "plt.ylabel(\"Bike rentals\")\n",
    "plt.xlabel(\"Date\")\n",
    "plt.show()"
   ]
  },
  {
   "cell_type": "markdown",
   "id": "474deccd",
   "metadata": {},
   "source": [
    "#### Feature engineering"
   ]
  },
  {
   "cell_type": "code",
   "execution_count": 32,
   "id": "5f264587",
   "metadata": {},
   "outputs": [],
   "source": [
    "# Day period - discretize hr into categories (morning, afternoon, evening, night)\n",
    "def get_day_period(hour):\n",
    "    if 5 <= hour <= 11:\n",
    "        return 'Morning'\n",
    "    elif 12 <= hour <= 16:\n",
    "        return \"Afternoon\"\n",
    "    elif 17 <= hour <= 20:\n",
    "        return \"Evening\"\n",
    "    else:\n",
    "        return \"Night\"\n",
    "    \n",
    "combined_df[\"day_period\"] = combined_df['hr'].apply(get_day_period)"
   ]
  },
  {
   "cell_type": "code",
   "execution_count": 33,
   "id": "6214c81a",
   "metadata": {},
   "outputs": [
    {
     "data": {
      "image/png": "[encoded data removed]",
      "text/plain": [
       "<Figure size 640x480 with 1 Axes>"
      ]
     },
     "metadata": {},
     "output_type": "display_data"
    }
   ],
   "source": [
    "combined_df.boxplot(column=\"cnt\", by=\"day_period\", grid=False)\n",
    "plt.title(\"Bike rental count per day period\")\n",
    "plt.suptitle('')\n",
    "plt.xlabel(\"\")\n",
    "plt.ylabel(\"Bike rentals\")\n",
    "plt.show()"
   ]
  },
  {
   "cell_type": "code",
   "execution_count": 34,
   "id": "66d9b522",
   "metadata": {},
   "outputs": [
    {
     "data": {
      "image/png": "[encoded data removed]",
      "text/plain": [
       "<Figure size 640x480 with 1 Axes>"
      ]
     },
     "metadata": {},
     "output_type": "display_data"
    }
   ],
   "source": [
    "# Combine weather and season\n",
    "combined_df['season_weather'] = combined_df['season'].astype(str) + '_' + combined_df['weathersit'].astype(str)\n",
    "combined_df.boxplot(column=\"cnt\", by=\"season_weather\", grid=False)\n",
    "plt.title(\"Bike rental count per season/weather\")\n",
    "plt.suptitle('')\n",
    "plt.xlabel(\"\")\n",
    "plt.ylabel(\"Bike rentals\")\n",
    "plt.xticks(np.arange((combined_df[\"season_weather\"].nunique()))+1,\n",
    "           labels=['Winter/Clr', 'Winter/mist', 'Winter/l', \"Winter/h\",\n",
    "                   'Spring/Clr', 'Spring/mist', 'Spring/l',\n",
    "                   'Summer/Clr', 'Summer/mist', 'Summer/l',\n",
    "                   'Fall/Clr', 'Fall/mist', 'Fall/l'],\n",
    "           rotation=45)\n",
    "plt.show()"
   ]
  },
  {
   "cell_type": "code",
   "execution_count": 36,
   "id": "2d6716e3",
   "metadata": {},
   "outputs": [
    {
     "data": {
      "application/vnd.microsoft.datawrangler.viewer.v0+json": {
       "columns": [
        {
         "name": "weathersit",
         "rawType": "int64",
         "type": "integer"
        },
        {
         "name": "count",
         "rawType": "int64",
         "type": "integer"
        }
       ],
       "ref": "b5bdcf12-a2f0-44ec-a1f3-135af9f71a28",
       "rows": [
        [
         "1",
         "11413"
        ],
        [
         "2",
         "4544"
        ],
        [
         "3",
         "1419"
        ],
        [
         "4",
         "3"
        ]
       ],
       "shape": {
        "columns": 1,
        "rows": 4
       }
      },
      "text/plain": [
       "weathersit\n",
       "1    11413\n",
       "2     4544\n",
       "3     1419\n",
       "4        3\n",
       "Name: count, dtype: int64"
      ]
     },
     "execution_count": 36,
     "metadata": {},
     "output_type": "execute_result"
    }
   ],
   "source": [
    "combined_df[\"weathersit\"].value_counts()"
   ]
  },
  {
   "cell_type": "markdown",
   "id": "3754e334",
   "metadata": {},
   "source": [
    "The general season and weather trends from above hold in this combined feature such that bike rentals are typically lower in winter and higher in summer and bike rentals tend to decrease going from clear weather to progressively worse weather conditions across all seasons. However, heavy rain/snow weather is the exception because there are only 3 data observations under this category."
   ]
  },
  {
   "cell_type": "markdown",
   "id": "c2f044f8",
   "metadata": {},
   "source": [
    "### Conclusions and key takeaways\n",
    "\n",
    "1. **Overall the demand is volatile**: The number of bike rentals is highly variable (variance = 32901) and skewed, with many periods of low use and some periods of really high use.\n",
    "\n",
    "2. **Strong seasonal influence**: Demand is highest in the summer and lowest in the winter. Spring and fall show moderate demand and are statictically similar to each other.\n",
    "\n",
    "3. **Weekly commuter pattern**: Rentals are significantly higher on Thursdays and Fridays compared to Sundays. In addition, rentals seem to peak in the morning around 8am and in the afternoon around 5pm. This indicates demand for commuting to and from work, particularly on Thursdays and Fridays.\n",
    "\n",
    "4. **Weather is a major factor**: As weather conditions worsen from clear to light rain/snow, bike rentals consistently decrease. The trend for heavy rain/snow is inconclusive due to insufficient data (only 3 observations), but it's logical to assume demand is lowest in these conditions."
   ]
  },
  {
   "cell_type": "markdown",
   "id": "c66192f8",
   "metadata": {},
   "source": [
    "### Recommendations\n",
    "\n",
    "1. Resource and fleet management: \n",
    "    - Deploy the maximum number of bikes during the summer to meet peak demand. Also, schedule major fleet maintenance/repairs and reduce the number of available bikes during the winter to lower operational costs.\n",
    "    - Demand-based rebalancing - increase the availability of bikes at popular stations on Thursdays and Fridays. Redistribute bikes to match hourly demand during commuting hours. For example, moving bikes to residential areas prior to morning commutes and to business districts prior to the afternoon commute.\n",
    "    - Use weather forecasts to predict demand. On days with poor weather forecasted, scaled back the fleet to rebalance efforts.\n",
    "    \n",
    "2. Marketing and pricing:\n",
    "    - Boost off-peak ridership: Offer promotions and discounts during period of low demand such as in winter, Sundays, and midday hours.\n",
    "    - Target commuters: Marketing campaigns that highlight the convenience and reliability of bike-share for commuting to and from work."
   ]
  }
 ],
 "metadata": {
  "kernelspec": {
   "display_name": "venv",
   "language": "python",
   "name": "python3"
  },
  "language_info": {
   "codemirror_mode": {
    "name": "ipython",
    "version": 3
   },
   "file_extension": ".py",
   "mimetype": "text/x-python",
   "name": "python",
   "nbconvert_exporter": "python",
   "pygments_lexer": "ipython3",
   "version": "3.13.7"
  }
 },
 "nbformat": 4,
 "nbformat_minor": 5
}
